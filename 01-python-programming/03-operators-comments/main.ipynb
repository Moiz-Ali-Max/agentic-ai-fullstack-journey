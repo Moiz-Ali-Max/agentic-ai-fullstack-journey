{
 "cells": [
  {
   "cell_type": "markdown",
   "id": "ce7c59c7",
   "metadata": {},
   "source": [
    "## Operators"
   ]
  },
  {
   "cell_type": "markdown",
   "id": "31328944",
   "metadata": {},
   "source": [
    "### ASCII Code\n",
    "- A = 65\n",
    "- Z = 90\n",
    "- a = 97\n",
    "- z = 122\n",
    "- 0 = 48\n",
    "- 9 = 57\n",
    "\n",
    "### To check ASCII code of any word, no.\n",
    "`` ord('A')\n",
    "so it gives the ASCII code of A which is 65 ``\n",
    "\n",
    "### To get code word, no. from ASCII code\n",
    "`` chr(65)\n",
    "so it gives the character of 65 which is A ``"
   ]
  },
  {
   "cell_type": "markdown",
   "id": "127114b4",
   "metadata": {},
   "source": [
    "### 2. Assignment Operators\n",
    "1. =\n",
    "2. +=\n",
    "3. -=\n",
    "4. *=\n",
    "5. /=\n",
    "6. %=\n",
    "7. //=\n",
    "8. **="
   ]
  },
  {
   "cell_type": "markdown",
   "id": "ce64d4e5",
   "metadata": {},
   "source": [
    "1. Equal is actually assign the value of variable"
   ]
  },
  {
   "cell_type": "code",
   "execution_count": 30,
   "id": "1e87d882",
   "metadata": {},
   "outputs": [
    {
     "name": "stdout",
     "output_type": "stream",
     "text": [
      "Here we assign 10 in a thorugh =, so it is = operator:  10\n"
     ]
    }
   ],
   "source": [
    "a : int = 10\n",
    "print(\"Here we assign 10 in a thorugh =, so it is = operator: \", a)"
   ]
  },
  {
   "cell_type": "markdown",
   "id": "d63c219a",
   "metadata": {},
   "source": [
    "2. Plus-Equal to\n",
    "- +="
   ]
  },
  {
   "cell_type": "code",
   "execution_count": null,
   "id": "e1021287",
   "metadata": {},
   "outputs": [
    {
     "name": "stdout",
     "output_type": "stream",
     "text": [
      "7\n"
     ]
    }
   ],
   "source": [
    " "
   ]
  },
  {
   "cell_type": "markdown",
   "id": "8628a81d",
   "metadata": {},
   "source": [
    "3. Minus-Equal to\n",
    "- -="
   ]
  },
  {
   "cell_type": "code",
   "execution_count": 21,
   "id": "d92825e5",
   "metadata": {},
   "outputs": [
    {
     "name": "stdout",
     "output_type": "stream",
     "text": [
      "3\n"
     ]
    }
   ],
   "source": [
    "a: int = 5\n",
    "a -= 2\n",
    "print(a)"
   ]
  },
  {
   "cell_type": "markdown",
   "id": "e3353c5e",
   "metadata": {},
   "source": [
    "4. Multiply-Equal to\n",
    "- *="
   ]
  },
  {
   "cell_type": "code",
   "execution_count": 20,
   "id": "d4825534",
   "metadata": {},
   "outputs": [
    {
     "name": "stdout",
     "output_type": "stream",
     "text": [
      "10\n"
     ]
    }
   ],
   "source": [
    "a: int = 5\n",
    "a *= 2\n",
    "print(a)"
   ]
  },
  {
   "cell_type": "markdown",
   "id": "6a3d32e1",
   "metadata": {},
   "source": [
    "5. Division-Equal to\n",
    "- /="
   ]
  },
  {
   "cell_type": "code",
   "execution_count": 19,
   "id": "2f94fa00",
   "metadata": {},
   "outputs": [
    {
     "name": "stdout",
     "output_type": "stream",
     "text": [
      "3.0\n"
     ]
    }
   ],
   "source": [
    "a: int = 6\n",
    "a /= 2\n",
    "print(a)"
   ]
  },
  {
   "cell_type": "markdown",
   "id": "12d729c8",
   "metadata": {},
   "source": [
    "6. Modulus-Equal to\n",
    "- %="
   ]
  },
  {
   "cell_type": "code",
   "execution_count": 18,
   "id": "9d2bf95a",
   "metadata": {},
   "outputs": [
    {
     "name": "stdout",
     "output_type": "stream",
     "text": [
      "1\n"
     ]
    }
   ],
   "source": [
    "a: int = 5\n",
    "a %= 2\n",
    "print(a)"
   ]
  },
  {
   "cell_type": "markdown",
   "id": "a841f3d6",
   "metadata": {},
   "source": [
    "7. Floor-Division Equal to\n",
    "- //="
   ]
  },
  {
   "cell_type": "code",
   "execution_count": 17,
   "id": "2fa4f9de",
   "metadata": {},
   "outputs": [
    {
     "name": "stdout",
     "output_type": "stream",
     "text": [
      "2\n"
     ]
    }
   ],
   "source": [
    "a: int = 5\n",
    "a //= 2\n",
    "print(a)"
   ]
  },
  {
   "cell_type": "markdown",
   "id": "5eef6f0f",
   "metadata": {},
   "source": [
    "8. Power-Equal to\n",
    "- **="
   ]
  },
  {
   "cell_type": "code",
   "execution_count": 16,
   "id": "40d37cca",
   "metadata": {},
   "outputs": [
    {
     "name": "stdout",
     "output_type": "stream",
     "text": [
      "25\n"
     ]
    }
   ],
   "source": [
    "a: int = 5\n",
    "a **= 2\n",
    "print(a)"
   ]
  },
  {
   "cell_type": "markdown",
   "id": "38f75ea5",
   "metadata": {},
   "source": [
    "### 3. Comparison Operators:\n",
    "1. ==\n",
    "2. !=\n",
    "3. greater-than: >\n",
    "4. <\n",
    "5. greater-equal: >=\n",
    "6. <="
   ]
  },
  {
   "cell_type": "markdown",
   "id": "a92cdd06",
   "metadata": {},
   "source": [
    "1. Double Equal to\n",
    "- It is used to compare the varables whether they are same or not."
   ]
  },
  {
   "cell_type": "code",
   "execution_count": 15,
   "id": "c8fb3efa",
   "metadata": {},
   "outputs": [
    {
     "name": "stdout",
     "output_type": "stream",
     "text": [
      "False\n"
     ]
    }
   ],
   "source": [
    "a: int = 5\n",
    "b: str = \"seven\"\n",
    "\n",
    "print(a == b)"
   ]
  },
  {
   "cell_type": "markdown",
   "id": "6587c4ab",
   "metadata": {},
   "source": [
    "2. Not Equal to"
   ]
  },
  {
   "cell_type": "code",
   "execution_count": null,
   "id": "886e91cf",
   "metadata": {},
   "outputs": [
    {
     "name": "stdout",
     "output_type": "stream",
     "text": [
      "True\n"
     ]
    }
   ],
   "source": [
    "a: int = 5\n",
    "b: str = \"seven\"\n",
    "\n",
    "print(a != b)"
   ]
  },
  {
   "cell_type": "markdown",
   "id": "7627f1f6",
   "metadata": {},
   "source": [
    "3. Greater than"
   ]
  },
  {
   "cell_type": "code",
   "execution_count": 24,
   "id": "e5a6ebbd",
   "metadata": {},
   "outputs": [
    {
     "name": "stdout",
     "output_type": "stream",
     "text": [
      "False\n"
     ]
    }
   ],
   "source": [
    "a: int = 5\n",
    "b: int = 10\n",
    "\n",
    "print(a > b)"
   ]
  },
  {
   "cell_type": "markdown",
   "id": "d0fe30f2",
   "metadata": {},
   "source": [
    "4. Less than"
   ]
  },
  {
   "cell_type": "code",
   "execution_count": 25,
   "id": "c17b7763",
   "metadata": {},
   "outputs": [
    {
     "name": "stdout",
     "output_type": "stream",
     "text": [
      "True\n"
     ]
    }
   ],
   "source": [
    "a: int = 5\n",
    "b: int = 10\n",
    "\n",
    "print(a < b)"
   ]
  },
  {
   "cell_type": "markdown",
   "id": "ea85e5b4",
   "metadata": {},
   "source": [
    "5. Greater than OR Equal to"
   ]
  },
  {
   "cell_type": "code",
   "execution_count": 26,
   "id": "7157c46c",
   "metadata": {},
   "outputs": [
    {
     "name": "stdout",
     "output_type": "stream",
     "text": [
      "False\n"
     ]
    }
   ],
   "source": [
    "a: int = 5\n",
    "b: int = 10\n",
    "\n",
    "print(a >= b)"
   ]
  },
  {
   "cell_type": "markdown",
   "id": "59ebc2ed",
   "metadata": {},
   "source": [
    "6. Less than OR Equal to"
   ]
  },
  {
   "cell_type": "code",
   "execution_count": 27,
   "id": "b5d2e239",
   "metadata": {},
   "outputs": [
    {
     "name": "stdout",
     "output_type": "stream",
     "text": [
      "True\n"
     ]
    }
   ],
   "source": [
    "a: int = 5\n",
    "b: int = 10\n",
    "\n",
    "print(a <= b)"
   ]
  },
  {
   "cell_type": "markdown",
   "id": "94ba73b0",
   "metadata": {},
   "source": [
    "### 4. Logical Operators\n",
    "1. and\n",
    "2. or\n",
    "3. not"
   ]
  },
  {
   "cell_type": "markdown",
   "id": "f9906288",
   "metadata": {},
   "source": [
    "1. and Operator:\n",
    "- In this operator it check all conditions must be true or correct."
   ]
  },
  {
   "cell_type": "code",
   "execution_count": 31,
   "id": "ac3445e1",
   "metadata": {},
   "outputs": [
    {
     "data": {
      "text/plain": [
       "True"
      ]
     },
     "execution_count": 31,
     "metadata": {},
     "output_type": "execute_result"
    }
   ],
   "source": [
    "True and True and True"
   ]
  },
  {
   "cell_type": "markdown",
   "id": "8d9cbfb6",
   "metadata": {},
   "source": [
    "2. or Operator\n",
    "- In this operator it checks if one condition is true then it gives the True output"
   ]
  },
  {
   "cell_type": "code",
   "execution_count": 32,
   "id": "15127b25",
   "metadata": {},
   "outputs": [
    {
     "data": {
      "text/plain": [
       "True"
      ]
     },
     "execution_count": 32,
     "metadata": {},
     "output_type": "execute_result"
    }
   ],
   "source": [
    "True or False or True"
   ]
  },
  {
   "cell_type": "markdown",
   "id": "d598e622",
   "metadata": {},
   "source": [
    "3. not Operator\n",
    "- It is the inverse"
   ]
  },
  {
   "cell_type": "code",
   "execution_count": 33,
   "id": "303a0eee",
   "metadata": {},
   "outputs": [
    {
     "data": {
      "text/plain": [
       "False"
      ]
     },
     "execution_count": 33,
     "metadata": {},
     "output_type": "execute_result"
    }
   ],
   "source": [
    "not True"
   ]
  },
  {
   "cell_type": "markdown",
   "id": "935da48c",
   "metadata": {},
   "source": [
    "### 5. Identity Operator\n",
    "1. is\n",
    "2. is not"
   ]
  },
  {
   "cell_type": "code",
   "execution_count": 36,
   "id": "1b0b8c96",
   "metadata": {},
   "outputs": [
    {
     "name": "stdout",
     "output_type": "stream",
     "text": [
      "140705454017760\n",
      "140705454018816\n"
     ]
    }
   ],
   "source": [
    "a: str = \"a\"\n",
    "b: str = \"b\"\n",
    "print(id(a))\n",
    "print(id(b))"
   ]
  },
  {
   "cell_type": "markdown",
   "id": "cd9e327d",
   "metadata": {},
   "source": [
    "1. is"
   ]
  },
  {
   "cell_type": "code",
   "execution_count": 37,
   "id": "3666283a",
   "metadata": {},
   "outputs": [
    {
     "name": "stdout",
     "output_type": "stream",
     "text": [
      "False\n"
     ]
    }
   ],
   "source": [
    "print(a is b)"
   ]
  },
  {
   "cell_type": "markdown",
   "id": "6953ad81",
   "metadata": {},
   "source": [
    "2. is not"
   ]
  },
  {
   "cell_type": "code",
   "execution_count": 38,
   "id": "177f3eeb",
   "metadata": {},
   "outputs": [
    {
     "name": "stdout",
     "output_type": "stream",
     "text": [
      "True\n"
     ]
    }
   ],
   "source": [
    "print(a is not b)"
   ]
  },
  {
   "cell_type": "markdown",
   "id": "94e3b37a",
   "metadata": {},
   "source": [
    "### 6. Membership Operator\n",
    "1. in\n",
    "2. not in"
   ]
  },
  {
   "cell_type": "markdown",
   "id": "3cc2381e",
   "metadata": {},
   "source": [
    "1. in"
   ]
  },
  {
   "cell_type": "code",
   "execution_count": 40,
   "id": "e59b956a",
   "metadata": {},
   "outputs": [
    {
     "name": "stdout",
     "output_type": "stream",
     "text": [
      "True\n"
     ]
    }
   ],
   "source": [
    "name: str = \"moiz ali afzaal\"\n",
    "print(\"m\" in name)"
   ]
  },
  {
   "cell_type": "markdown",
   "id": "94548319",
   "metadata": {},
   "source": [
    "2. not in"
   ]
  },
  {
   "cell_type": "code",
   "execution_count": 41,
   "id": "292f2ff4",
   "metadata": {},
   "outputs": [
    {
     "name": "stdout",
     "output_type": "stream",
     "text": [
      "False\n"
     ]
    }
   ],
   "source": [
    "name: str = \"moiz ali afzaal\"\n",
    "print(\"m\" not in name)"
   ]
  },
  {
   "cell_type": "markdown",
   "id": "150b6cec",
   "metadata": {},
   "source": [
    "### 7. Operator Precendance\n",
    "##### PEMDAS Rule\n",
    "- Paranthesis\n",
    "- Exponent\n",
    "- Multiplication\n",
    "- Division\n",
    "- Addition\n",
    "- Subtraction"
   ]
  },
  {
   "cell_type": "code",
   "execution_count": 43,
   "id": "3c3ac26a",
   "metadata": {},
   "outputs": [
    {
     "name": "stdout",
     "output_type": "stream",
     "text": [
      "2.0\n"
     ]
    }
   ],
   "source": [
    "print(3 + 2 - 1 * 9 / 3)"
   ]
  },
  {
   "cell_type": "markdown",
   "id": "aee9d358",
   "metadata": {},
   "source": [
    "### Miscallaneous"
   ]
  },
  {
   "cell_type": "markdown",
   "id": "09eefa3b",
   "metadata": {},
   "source": [
    "##### For easily readable we use underscore in big values"
   ]
  },
  {
   "cell_type": "code",
   "execution_count": 44,
   "id": "92fa72f8",
   "metadata": {},
   "outputs": [
    {
     "name": "stdout",
     "output_type": "stream",
     "text": [
      "14000000000000\n"
     ]
    }
   ],
   "source": [
    "big_nummber: int = 14_000_000_000_000\n",
    "print(big_nummber)"
   ]
  },
  {
   "cell_type": "markdown",
   "id": "851cfec3",
   "metadata": {},
   "source": [
    "##### Zip/Unzip"
   ]
  },
  {
   "cell_type": "code",
   "execution_count": 45,
   "id": "3c57e5f0",
   "metadata": {},
   "outputs": [
    {
     "name": "stdout",
     "output_type": "stream",
     "text": [
      "a 10 1.0\n"
     ]
    }
   ],
   "source": [
    "a, b, c = \"a\", 10, 1.0\n",
    "print(a, b, c)"
   ]
  },
  {
   "cell_type": "code",
   "execution_count": 52,
   "id": "046e8633",
   "metadata": {},
   "outputs": [
    {
     "name": "stdout",
     "output_type": "stream",
     "text": [
      "moiz 10 1.0\n",
      "moiz 10 1.0\n"
     ]
    }
   ],
   "source": [
    "data = (\"moiz\", 10, 1.0)\n",
    "print(data[0], data[1], data[2])\n",
    "print(*data) #for unzip easily"
   ]
  },
  {
   "cell_type": "code",
   "execution_count": 53,
   "id": "6c75cc92",
   "metadata": {},
   "outputs": [
    {
     "data": {
      "text/plain": [
       "'aaaaaaaaaa'"
      ]
     },
     "execution_count": 53,
     "metadata": {},
     "output_type": "execute_result"
    }
   ],
   "source": [
    "\"a\" * 10"
   ]
  },
  {
   "cell_type": "markdown",
   "id": "556ce7e0",
   "metadata": {},
   "source": [
    "### 2. Comments\n",
    "- (#)\n",
    "- \"\"\" \"\"\" (Jugaad Method)"
   ]
  },
  {
   "cell_type": "markdown",
   "id": "d6e49db7",
   "metadata": {},
   "source": [
    "### 3. zen of python"
   ]
  },
  {
   "cell_type": "code",
   "execution_count": 54,
   "id": "60b110aa",
   "metadata": {},
   "outputs": [
    {
     "name": "stdout",
     "output_type": "stream",
     "text": [
      "The Zen of Python, by Tim Peters\n",
      "\n",
      "Beautiful is better than ugly.\n",
      "Explicit is better than implicit.\n",
      "Simple is better than complex.\n",
      "Complex is better than complicated.\n",
      "Flat is better than nested.\n",
      "Sparse is better than dense.\n",
      "Readability counts.\n",
      "Special cases aren't special enough to break the rules.\n",
      "Although practicality beats purity.\n",
      "Errors should never pass silently.\n",
      "Unless explicitly silenced.\n",
      "In the face of ambiguity, refuse the temptation to guess.\n",
      "There should be one-- and preferably only one --obvious way to do it.\n",
      "Although that way may not be obvious at first unless you're Dutch.\n",
      "Now is better than never.\n",
      "Although never is often better than *right* now.\n",
      "If the implementation is hard to explain, it's a bad idea.\n",
      "If the implementation is easy to explain, it may be a good idea.\n",
      "Namespaces are one honking great idea -- let's do more of those!\n"
     ]
    }
   ],
   "source": [
    "import this"
   ]
  },
  {
   "cell_type": "code",
   "execution_count": null,
   "id": "c846e5fd",
   "metadata": {},
   "outputs": [],
   "source": []
  }
 ],
 "metadata": {
  "kernelspec": {
   "display_name": "python12",
   "language": "python",
   "name": "python3"
  },
  "language_info": {
   "codemirror_mode": {
    "name": "ipython",
    "version": 3
   },
   "file_extension": ".py",
   "mimetype": "text/x-python",
   "name": "python",
   "nbconvert_exporter": "python",
   "pygments_lexer": "ipython3",
   "version": "3.12.0"
  }
 },
 "nbformat": 4,
 "nbformat_minor": 5
}
