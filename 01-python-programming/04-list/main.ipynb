{
 "cells": [
  {
   "cell_type": "markdown",
   "id": "70201f2f",
   "metadata": {},
   "source": [
    "### Making List in a Old-Way"
   ]
  },
  {
   "cell_type": "code",
   "execution_count": 3,
   "id": "0df912d9",
   "metadata": {},
   "outputs": [
    {
     "name": "stdout",
     "output_type": "stream",
     "text": [
      "ali\n",
      "ali\n"
     ]
    }
   ],
   "source": [
    "names: str = [\"moiz\", \"ali\", \"afzaal\"]\n",
    "print(names[1])\n",
    "print(names[-2])"
   ]
  },
  {
   "cell_type": "markdown",
   "id": "c5872f66",
   "metadata": {},
   "source": [
    "### Now, Making List in a Modern-Way"
   ]
  },
  {
   "cell_type": "code",
   "execution_count": 7,
   "id": "618f1c5d",
   "metadata": {},
   "outputs": [
    {
     "name": "stdout",
     "output_type": "stream",
     "text": [
      "afzaal\n",
      "Moiz Ali surname is Afzaal\n"
     ]
    }
   ],
   "source": [
    "from typing import Any\n",
    "\n",
    "names: list[Any] = [\"moiz\", \"ali\", \"afzaal\"]\n",
    "print(names[-1])\n",
    "print(f\"Moiz Ali surname is {names[-1].capitalize()}\")"
   ]
  },
  {
   "cell_type": "code",
   "execution_count": null,
   "id": "76fc5712",
   "metadata": {},
   "outputs": [
    {
     "name": "stdout",
     "output_type": "stream",
     "text": [
      "20\n",
      "Moiz Ali surname is ['moiz', 'ali', 'afzaal', 20]\n"
     ]
    }
   ],
   "source": [
    "from typing import Any\n",
    "\n",
    "names: list[str] = [\"moiz\", \"ali\", \"afzaal\", 20]\n",
    "print(names[-1])\n",
    "print(f\"Moiz Ali surname is {names}\")"
   ]
  },
  {
   "cell_type": "code",
   "execution_count": 11,
   "id": "606dc93f",
   "metadata": {},
   "outputs": [
    {
     "name": "stdout",
     "output_type": "stream",
     "text": [
      "['A', 'B', 'C', 'D', 'E', 'F', 'G', 'H', 'I', 'J', 'K', 'L', 'M', 'N', 'O', 'P', 'Q', 'R', 'S', 'T', 'U', 'V', 'W', 'X', 'Y', 'Z']\n"
     ]
    }
   ],
   "source": [
    "#list is also a function, for example\n",
    "alphabets: list[str] = list(\"ABCDEFGHIJKLMNOPQRSTUVWXYZ\")\n",
    "print(alphabets)"
   ]
  },
  {
   "cell_type": "code",
   "execution_count": 18,
   "id": "9b401298",
   "metadata": {},
   "outputs": [
    {
     "name": "stdout",
     "output_type": "stream",
     "text": [
      "1st way ['A', 'B']\n",
      "2nd way ['A', 'B']\n",
      "3rd way ['A', 'B']\n",
      "4th way ['A', 'B']\n",
      "5th way ['A', 'B']\n"
     ]
    }
   ],
   "source": [
    "alphabets: list[str] = ['A', 'B', 'C', 'D', 'E', 'F', 'G', 'H', 'I', 'J', 'K', 'L', 'M', 'N', 'O', 'P', 'Q', 'R', 'S', 'T', 'U', 'V', 'W', 'X', 'Y', 'Z']\n",
    "print(\"1st way\",alphabets[0:2])\n",
    "print(\"2nd way\",alphabets[:2])\n",
    "print(\"3rd way\",alphabets[-26:-24])\n",
    "print(\"4th way\",alphabets[0:2:1])\n",
    "print(\"5th way\",alphabets[0:2:])"
   ]
  },
  {
   "cell_type": "code",
   "execution_count": 20,
   "id": "b1050229",
   "metadata": {},
   "outputs": [
    {
     "name": "stdout",
     "output_type": "stream",
     "text": [
      "['A', 'B', 'C', 'D', 'E', 'F', 'G', 'H', 'I', 'J', 'K', 'L', 'M', 'N', 'O', 'P', 'Q', 'R', 'S', 'T', 'U', 'V', 'W', 'X', 'Y', 'Z']\n",
      "['A', 'C', 'E', 'G', 'I', 'K', 'M', 'O', 'Q', 'S', 'U', 'W', 'Y']\n"
     ]
    }
   ],
   "source": [
    "alphabets: list[str] = ['A', 'B', 'C', 'D', 'E', 'F', 'G', 'H', 'I', 'J', 'K', 'L', 'M', 'N', 'O', 'P', 'Q', 'R', 'S', 'T', 'U', 'V', 'W', 'X', 'Y', 'Z']\n",
    "print(alphabets[::])\n",
    "print(alphabets[::2])"
   ]
  },
  {
   "cell_type": "code",
   "execution_count": 23,
   "id": "d43b1c79",
   "metadata": {},
   "outputs": [
    {
     "name": "stdout",
     "output_type": "stream",
     "text": [
      "['Z', 'Y', 'X', 'W', 'V', 'U', 'T', 'S', 'R', 'Q', 'P', 'O', 'N', 'M', 'L', 'K', 'J', 'I', 'H', 'G', 'F', 'E', 'D', 'C', 'B', 'A']\n",
      "['Z', 'X', 'V', 'T', 'R', 'P', 'N', 'L', 'J', 'H', 'F', 'D', 'B']\n"
     ]
    }
   ],
   "source": [
    "alphabets: list[str] = ['A', 'B', 'C', 'D', 'E', 'F', 'G', 'H', 'I', 'J', 'K', 'L', 'M', 'N', 'O', 'P', 'Q', 'R', 'S', 'T', 'U', 'V', 'W', 'X', 'Y', 'Z']\n",
    "print(alphabets[::-1])\n",
    "print(alphabets[::-2])"
   ]
  },
  {
   "cell_type": "code",
   "execution_count": 24,
   "id": "1c81b3a7",
   "metadata": {},
   "outputs": [
    {
     "name": "stdout",
     "output_type": "stream",
     "text": [
      "['B', 'C', 'D', 'E']\n"
     ]
    }
   ],
   "source": [
    "alphabets: list[str] = ['A', 'B', 'C', 'D', 'E', 'F', 'G', 'H']\n",
    "print(alphabets[1:-3])"
   ]
  },
  {
   "cell_type": "markdown",
   "id": "ca253267",
   "metadata": {},
   "source": [
    "so for reverse indexing, make sure start index value should be greater than end, another solution is sequence or steps"
   ]
  },
  {
   "cell_type": "code",
   "execution_count": 31,
   "id": "da599aa1",
   "metadata": {},
   "outputs": [
    {
     "name": "stdout",
     "output_type": "stream",
     "text": [
      "['G', 'F', 'E']\n"
     ]
    }
   ],
   "source": [
    "alphabets: list[str] = ['A', 'B', 'C', 'D', 'E', 'F', 'G', 'H']\n",
    "print(alphabets[-2:-5:-1])"
   ]
  },
  {
   "cell_type": "markdown",
   "id": "e5c46b49",
   "metadata": {},
   "source": [
    "### List Methods and Attributes"
   ]
  },
  {
   "cell_type": "code",
   "execution_count": 37,
   "id": "bd05a4a1",
   "metadata": {},
   "outputs": [
    {
     "data": {
      "text/plain": [
       "['append',\n",
       " 'clear',\n",
       " 'copy',\n",
       " 'count',\n",
       " 'extend',\n",
       " 'index',\n",
       " 'insert',\n",
       " 'pop',\n",
       " 'remove',\n",
       " 'reverse',\n",
       " 'sort']"
      ]
     },
     "execution_count": 37,
     "metadata": {},
     "output_type": "execute_result"
    }
   ],
   "source": [
    "[i for i in dir(list) if \"__\" not in i]"
   ]
  },
  {
   "cell_type": "markdown",
   "id": "31724a0e",
   "metadata": {},
   "source": [
    "To take any help of any object (function, methods)\n",
    "1. help(object)\n",
    "2. object?\n",
    "3. object??\n",
    "4. ?object\n",
    "5. ??object\n"
   ]
  },
  {
   "cell_type": "code",
   "execution_count": 39,
   "id": "722191a0",
   "metadata": {},
   "outputs": [
    {
     "name": "stdout",
     "output_type": "stream",
     "text": [
      "Help on function display in module IPython.core.display_functions:\n",
      "\n",
      "display(*objs, include=None, exclude=None, metadata=None, transient=None, display_id=None, raw=False, clear=False, **kwargs)\n",
      "    Display a Python object in all frontends.\n",
      "\n",
      "    By default all representations will be computed and sent to the frontends.\n",
      "    Frontends can decide which representation is used and how.\n",
      "\n",
      "    In terminal IPython this will be similar to using :func:`print`, for use in richer\n",
      "    frontends see Jupyter notebook examples with rich display logic.\n",
      "\n",
      "    Parameters\n",
      "    ----------\n",
      "    *objs : object\n",
      "        The Python objects to display.\n",
      "    raw : bool, optional\n",
      "        Are the objects to be displayed already mimetype-keyed dicts of raw display data,\n",
      "        or Python objects that need to be formatted before display? [default: False]\n",
      "    include : list, tuple or set, optional\n",
      "        A list of format type strings (MIME types) to include in the\n",
      "        format data dict. If this is set *only* the format types included\n",
      "        in this list will be computed.\n",
      "    exclude : list, tuple or set, optional\n",
      "        A list of format type strings (MIME types) to exclude in the format\n",
      "        data dict. If this is set all format types will be computed,\n",
      "        except for those included in this argument.\n",
      "    metadata : dict, optional\n",
      "        A dictionary of metadata to associate with the output.\n",
      "        mime-type keys in this dictionary will be associated with the individual\n",
      "        representation formats, if they exist.\n",
      "    transient : dict, optional\n",
      "        A dictionary of transient data to associate with the output.\n",
      "        Data in this dict should not be persisted to files (e.g. notebooks).\n",
      "    display_id : str, bool optional\n",
      "        Set an id for the display.\n",
      "        This id can be used for updating this display area later via update_display.\n",
      "        If given as `True`, generate a new `display_id`\n",
      "    clear : bool, optional\n",
      "        Should the output area be cleared before displaying anything? If True,\n",
      "        this will wait for additional output before clearing. [default: False]\n",
      "    **kwargs : additional keyword-args, optional\n",
      "        Additional keyword-arguments are passed through to the display publisher.\n",
      "\n",
      "    Returns\n",
      "    -------\n",
      "    handle: DisplayHandle\n",
      "        Returns a handle on updatable displays for use with :func:`update_display`,\n",
      "        if `display_id` is given. Returns :any:`None` if no `display_id` is given\n",
      "        (default).\n",
      "\n",
      "    Examples\n",
      "    --------\n",
      "    >>> class Json(object):\n",
      "    ...     def __init__(self, json):\n",
      "    ...         self.json = json\n",
      "    ...     def _repr_pretty_(self, pp, cycle):\n",
      "    ...         import json\n",
      "    ...         pp.text(json.dumps(self.json, indent=2))\n",
      "    ...     def __repr__(self):\n",
      "    ...         return str(self.json)\n",
      "    ...\n",
      "\n",
      "    >>> d = Json({1:2, 3: {4:5}})\n",
      "\n",
      "    >>> print(d)\n",
      "    {1: 2, 3: {4: 5}}\n",
      "\n",
      "    >>> display(d)\n",
      "    {\n",
      "      \"1\": 2,\n",
      "      \"3\": {\n",
      "        \"4\": 5\n",
      "      }\n",
      "    }\n",
      "\n",
      "    >>> def int_formatter(integer, pp, cycle):\n",
      "    ...     pp.text('I'*integer)\n",
      "\n",
      "    >>> plain = get_ipython().display_formatter.formatters['text/plain']\n",
      "    >>> plain.for_type(int, int_formatter)\n",
      "    <function _repr_pprint at 0x...>\n",
      "    >>> display(7-5)\n",
      "    II\n",
      "\n",
      "    >>> del plain.type_printers[int]\n",
      "    >>> display(7-5)\n",
      "    2\n",
      "\n",
      "    See Also\n",
      "    --------\n",
      "    :func:`update_display`\n",
      "\n",
      "    Notes\n",
      "    -----\n",
      "    In Python, objects can declare their textual representation using the\n",
      "    `__repr__` method. IPython expands on this idea and allows objects to declare\n",
      "    other, rich representations including:\n",
      "\n",
      "      - HTML\n",
      "      - JSON\n",
      "      - PNG\n",
      "      - JPEG\n",
      "      - SVG\n",
      "      - LaTeX\n",
      "\n",
      "    A single object can declare some or all of these representations; all are\n",
      "    handled by IPython's display system.\n",
      "\n",
      "    The main idea of the first approach is that you have to implement special\n",
      "    display methods when you define your class, one for each representation you\n",
      "    want to use. Here is a list of the names of the special methods and the\n",
      "    values they must return:\n",
      "\n",
      "      - `_repr_html_`: return raw HTML as a string, or a tuple (see below).\n",
      "      - `_repr_json_`: return a JSONable dict, or a tuple (see below).\n",
      "      - `_repr_jpeg_`: return raw JPEG data, or a tuple (see below).\n",
      "      - `_repr_png_`: return raw PNG data, or a tuple (see below).\n",
      "      - `_repr_svg_`: return raw SVG data as a string, or a tuple (see below).\n",
      "      - `_repr_latex_`: return LaTeX commands in a string surrounded by \"$\",\n",
      "                        or a tuple (see below).\n",
      "      - `_repr_mimebundle_`: return a full mimebundle containing the mapping\n",
      "                             from all mimetypes to data.\n",
      "                             Use this for any mime-type not listed above.\n",
      "\n",
      "    The above functions may also return the object's metadata alonside the\n",
      "    data.  If the metadata is available, the functions will return a tuple\n",
      "    containing the data and metadata, in that order.  If there is no metadata\n",
      "    available, then the functions will return the data only.\n",
      "\n",
      "    When you are directly writing your own classes, you can adapt them for\n",
      "    display in IPython by following the above approach. But in practice, you\n",
      "    often need to work with existing classes that you can't easily modify.\n",
      "\n",
      "    You can refer to the documentation on integrating with the display system in\n",
      "    order to register custom formatters for already existing types\n",
      "    (:ref:`integrating_rich_display`).\n",
      "\n",
      "    .. versionadded:: 5.4 display available without import\n",
      "    .. versionadded:: 6.1 display available without import\n",
      "\n",
      "    Since IPython 5.4 and 6.1 :func:`display` is automatically made available to\n",
      "    the user without import. If you are using display in a document that might\n",
      "    be used in a pure python context or with older version of IPython, use the\n",
      "    following import at the top of your file::\n",
      "\n",
      "        from IPython.display import display\n",
      "\n"
     ]
    }
   ],
   "source": [
    "help(display)"
   ]
  },
  {
   "cell_type": "code",
   "execution_count": 42,
   "id": "030532e8",
   "metadata": {},
   "outputs": [
    {
     "name": "stdout",
     "output_type": "stream",
     "text": [
      "\u001b[31mSignature:\u001b[39m print(*args, sep=\u001b[33m' '\u001b[39m, end=\u001b[33m'\\n'\u001b[39m, file=\u001b[38;5;28;01mNone\u001b[39;00m, flush=\u001b[38;5;28;01mFalse\u001b[39;00m)\n",
      "\u001b[31mDocstring:\u001b[39m\n",
      "Prints the values to a stream, or to sys.stdout by default.\n",
      "\n",
      "sep\n",
      "  string inserted between values, default a space.\n",
      "end\n",
      "  string appended after the last value, default a newline.\n",
      "file\n",
      "  a file-like object (stream); defaults to the current sys.stdout.\n",
      "flush\n",
      "  whether to forcibly flush the stream.\n",
      "\u001b[31mType:\u001b[39m      builtin_function_or_method"
     ]
    }
   ],
   "source": [
    "?print"
   ]
  },
  {
   "cell_type": "code",
   "execution_count": 35,
   "id": "d969ca7c",
   "metadata": {},
   "outputs": [
    {
     "name": "stdout",
     "output_type": "stream",
     "text": [
      "['Moiz', 'ali', 'afzaal', 3.43, 2002]\n",
      "['Moiz', 'ali', 3.43, 2002]\n"
     ]
    }
   ],
   "source": [
    "names: list[Any] = [\"Moiz\", \"ali\", \"afzaal\", 3.43, 2002]\n",
    "print(names)\n",
    "\n",
    "del (names[2]) #delete keyword does not return anything and we can't store it in a variable\n",
    "print(names)\n"
   ]
  },
  {
   "cell_type": "code",
   "execution_count": 36,
   "id": "fc5533c3",
   "metadata": {},
   "outputs": [
    {
     "name": "stdout",
     "output_type": "stream",
     "text": [
      "moiz\n"
     ]
    },
    {
     "data": {
      "text/plain": [
       "None"
      ]
     },
     "metadata": {},
     "output_type": "display_data"
    }
   ],
   "source": [
    "#example of the function that doesn't return anything\n",
    "a: str = print(\"moiz\")\n",
    "display(a)"
   ]
  },
  {
   "cell_type": "markdown",
   "id": "b1632204",
   "metadata": {},
   "source": [
    "To reslove problem of del that we can't store delete word in a variable. we use,\n",
    "1. pop method"
   ]
  },
  {
   "cell_type": "code",
   "execution_count": 48,
   "id": "cb895ee2",
   "metadata": {},
   "outputs": [
    {
     "name": "stdout",
     "output_type": "stream",
     "text": [
      "['Moiz', 'ali', 'afzaal', 3.43, 2002]\n",
      "['Moiz', 'ali', 'afzaal', 3.43]\n",
      "2002\n"
     ]
    }
   ],
   "source": [
    "names: list[Any] = [\"Moiz\", \"ali\", \"afzaal\", 3.43, 2002]\n",
    "print(names)\n",
    "\n",
    "a: str = names.pop() #pop is a return method and it is returnable and we save it in a variable\n",
    "print(names)\n",
    "print(a)"
   ]
  },
  {
   "cell_type": "code",
   "execution_count": 49,
   "id": "5be4326e",
   "metadata": {},
   "outputs": [
    {
     "name": "stdout",
     "output_type": "stream",
     "text": [
      "['Moiz', 'ali', 'afzaal', 3.43, 2002]\n",
      "['Moiz', 'afzaal', 3.43, 2002]\n",
      "ali\n"
     ]
    }
   ],
   "source": [
    "names: list[Any] = [\"Moiz\", \"ali\", \"afzaal\", 3.43, 2002]\n",
    "print(names)\n",
    "\n",
    "a: str = names.pop(1) #pop is a return method and it is returnable and we save it in a variable\n",
    "print(names)\n",
    "print(a)"
   ]
  },
  {
   "cell_type": "markdown",
   "id": "5b770d6b",
   "metadata": {},
   "source": [
    "When we want to add element in a list, we use, \n",
    "\n",
    "2. append"
   ]
  },
  {
   "cell_type": "code",
   "execution_count": 50,
   "id": "21f4c0ab",
   "metadata": {},
   "outputs": [
    {
     "name": "stdout",
     "output_type": "stream",
     "text": [
      "[]\n",
      "['moiz', 'ali']\n"
     ]
    }
   ],
   "source": [
    "names: str = []\n",
    "print(names)\n",
    "\n",
    "names.append(\"moiz\")\n",
    "names.append(\"ali\")\n",
    "print(names)"
   ]
  },
  {
   "cell_type": "markdown",
   "id": "7a5ae926",
   "metadata": {},
   "source": [
    "When we want to add insert element on a specific index / particular position, we use\n",
    "\n",
    "3. inset"
   ]
  },
  {
   "cell_type": "code",
   "execution_count": null,
   "id": "89672df5",
   "metadata": {},
   "outputs": [
    {
     "name": "stdout",
     "output_type": "stream",
     "text": [
      "[1, 2, 3, 4]\n",
      "['numbers', 1, 2, 3, 4]\n"
     ]
    }
   ],
   "source": [
    "names: list[Any] = [1, 2, 3, 4]\n",
    "print(names)\n",
    "\n",
    "names.insert(0, \"numbers\")\n",
    "print(names)"
   ]
  },
  {
   "cell_type": "markdown",
   "id": "43d302f1",
   "metadata": {},
   "source": [
    "When we only want to delete the values not the object which del does, we use\n",
    "\n",
    "4. clear"
   ]
  },
  {
   "cell_type": "code",
   "execution_count": 55,
   "id": "48ca6b1c",
   "metadata": {},
   "outputs": [
    {
     "name": "stdout",
     "output_type": "stream",
     "text": [
      "['moiz', 'ali']\n"
     ]
    }
   ],
   "source": [
    "names: list[Any] = [\"moiz\", \"ali\"]\n",
    "print(names)\n",
    "del names\n",
    "# print(names) #it gives an error because del delete the names from the memory, so to fix this we use clear"
   ]
  },
  {
   "cell_type": "code",
   "execution_count": 56,
   "id": "e194aa62",
   "metadata": {},
   "outputs": [
    {
     "name": "stdout",
     "output_type": "stream",
     "text": [
      "['moiz', 'ali']\n",
      "[]\n"
     ]
    }
   ],
   "source": [
    "names: list[Any] = [\"moiz\", \"ali\"]\n",
    "print(names)\n",
    "names.clear()\n",
    "print(names)"
   ]
  },
  {
   "cell_type": "markdown",
   "id": "56ef90e8",
   "metadata": {},
   "source": [
    "When we want to change the value of a variable following problem occurs, so to fix this we use\n",
    "\n",
    "5. copy"
   ]
  },
  {
   "cell_type": "code",
   "execution_count": 61,
   "id": "c070c4e0",
   "metadata": {},
   "outputs": [
    {
     "name": "stdout",
     "output_type": "stream",
     "text": [
      "['a', 'b', 'c']\n",
      "['a', 'b', 'c']\n",
      "['change value', 'b', 'c']\n",
      "['change value', 'b', 'c']\n"
     ]
    }
   ],
   "source": [
    "a: list[str] = [\"a\", \"b\", \"c\"]\n",
    "b = a\n",
    "print(a)\n",
    "print(b)\n",
    "\n",
    "b[0] = \"change value\" #it changes on both variables\n",
    "\n",
    "print(a)\n",
    "print(b)"
   ]
  },
  {
   "cell_type": "code",
   "execution_count": 64,
   "id": "f7a68334",
   "metadata": {},
   "outputs": [
    {
     "name": "stdout",
     "output_type": "stream",
     "text": [
      "['a', 'b', 'c']\n",
      "['a', 'b', 'c']\n",
      "['a', 'b', 'c']\n",
      "['change value', 'b', 'c']\n"
     ]
    }
   ],
   "source": [
    "a: list[str] = [\"a\", \"b\", \"c\"]\n",
    "b = a.copy() #It copy only values like deep copy not the full address\n",
    "print(a)\n",
    "print(b)\n",
    "\n",
    "b[0] = \"change value\" #it changes only on b variable\n",
    "\n",
    "print(a)\n",
    "print(b)"
   ]
  },
  {
   "cell_type": "markdown",
   "id": "b91de55e",
   "metadata": {},
   "source": [
    "when we want to count in a variables of list, we use\n",
    "\n",
    "6. count"
   ]
  },
  {
   "cell_type": "code",
   "execution_count": 67,
   "id": "2eac9631",
   "metadata": {},
   "outputs": [
    {
     "name": "stdout",
     "output_type": "stream",
     "text": [
      "4\n"
     ]
    }
   ],
   "source": [
    "a: list[str] = [\"moiz\", \"moiz\", \"moiz\", \"moiz\"]\n",
    "print(a.count(\"moiz\"))"
   ]
  },
  {
   "cell_type": "markdown",
   "id": "88a3a009",
   "metadata": {},
   "source": [
    "6. Append"
   ]
  },
  {
   "cell_type": "code",
   "execution_count": 68,
   "id": "3f2d8517",
   "metadata": {},
   "outputs": [
    {
     "name": "stdout",
     "output_type": "stream",
     "text": [
      "['moiz', 'ali', ['afzaal']]\n"
     ]
    }
   ],
   "source": [
    "names: list[str] = [\"moiz\", \"ali\"]\n",
    "surname: list[str] = [\"afzaal\"]\n",
    "names.append(surname)\n",
    "\n",
    "print(names)"
   ]
  },
  {
   "cell_type": "markdown",
   "id": "673f902b",
   "metadata": {},
   "source": [
    "7. Extend"
   ]
  },
  {
   "cell_type": "code",
   "execution_count": 69,
   "id": "9a281a66",
   "metadata": {},
   "outputs": [
    {
     "name": "stdout",
     "output_type": "stream",
     "text": [
      "['moiz', 'ali', 'afzaal']\n"
     ]
    }
   ],
   "source": [
    "names: list[str] = [\"moiz\", \"ali\"]\n",
    "surname: list[str] = [\"afzaal\"]\n",
    "names.extend(surname)\n",
    "\n",
    "print(names)"
   ]
  },
  {
   "cell_type": "markdown",
   "id": "6054c407",
   "metadata": {},
   "source": [
    "8. remove"
   ]
  },
  {
   "cell_type": "code",
   "execution_count": 77,
   "id": "54518d58",
   "metadata": {},
   "outputs": [
    {
     "name": "stdout",
     "output_type": "stream",
     "text": [
      "['ali', 'afzaal', '2002']\n"
     ]
    }
   ],
   "source": [
    "names: list[str] = [\"moiz\", \"ali\", \"afzaal\", \"2002\"]\n",
    "names.remove(\"moiz\")\n",
    "print(names)"
   ]
  },
  {
   "cell_type": "code",
   "execution_count": null,
   "id": "1ac91f31",
   "metadata": {},
   "outputs": [],
   "source": []
  }
 ],
 "metadata": {
  "kernelspec": {
   "display_name": "python12",
   "language": "python",
   "name": "python3"
  },
  "language_info": {
   "codemirror_mode": {
    "name": "ipython",
    "version": 3
   },
   "file_extension": ".py",
   "mimetype": "text/x-python",
   "name": "python",
   "nbconvert_exporter": "python",
   "pygments_lexer": "ipython3",
   "version": "3.12.0"
  }
 },
 "nbformat": 4,
 "nbformat_minor": 5
}
